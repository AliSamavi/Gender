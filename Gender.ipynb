{
  "cells": [
    {
      "cell_type": "markdown",
      "metadata": {
        "id": "view-in-github",
        "colab_type": "text"
      },
      "source": [
        "<a href=\"https://colab.research.google.com/github/AliSamavi/Gender/blob/main/Gender.ipynb\" target=\"_parent\"><img src=\"https://colab.research.google.com/assets/colab-badge.svg\" alt=\"Open In Colab\"/></a>"
      ]
    },
    {
      "cell_type": "markdown",
      "source": [
        "#**Gender recognition with photos in deep learning**\n",
        "\n",
        "[My Github](https://github.com/AliSamavi)"
      ],
      "metadata": {
        "id": "LM8RW08M74MP"
      }
    },
    {
      "cell_type": "code",
      "execution_count": 1,
      "metadata": {
        "id": "pDvsN6VdJgGi"
      },
      "outputs": [],
      "source": [
        "import os\n",
        "import cv2\n",
        "import numpy as np\n",
        "from PIL import Image\n",
        "from imutils import paths\n",
        "from keras.utils import to_categorical\n",
        "from keras.models import Sequential\n",
        "from keras.layers import Conv2D,MaxPooling2D,Flatten,Dense\n",
        "from keras.optimizers import Adam"
      ]
    },
    {
      "cell_type": "code",
      "execution_count": 2,
      "metadata": {
        "id": "Le9MQjZHDCVX"
      },
      "outputs": [],
      "source": [
        "def image_remover(link):\n",
        "    for file_name in os.listdir(link):\n",
        "        file = link + file_name\n",
        "        if os.path.isfile(file):\n",
        "            # print('Deleting file:', file)\n",
        "            os.remove(file)"
      ]
    },
    {
      "cell_type": "code",
      "execution_count": 3,
      "metadata": {
        "id": "9YjKV59nuXlh"
      },
      "outputs": [],
      "source": [
        "def image_renamer(link):\n",
        "    count = 1\n",
        "\n",
        "    for file_name in os.listdir(link):\n",
        "        source = link + file_name\n",
        "\n",
        "        destination = link + str(count) + \".jpg\"\n",
        "\n",
        "\n",
        "        os.rename(source, destination)\n",
        "        count += 1\n",
        "    # print(\"All Files Renamed\")\n",
        "\n",
        "    # print(\"New Names are\")\n",
        "\n",
        "    res = os.listdir(link)\n",
        "    # print(res)"
      ]
    },
    {
      "cell_type": "code",
      "execution_count": 4,
      "metadata": {
        "id": "3GIQc_FbuWqr"
      },
      "outputs": [],
      "source": [
        "def image_resizer(link,destination):    \n",
        "      image = Image.open(link)\n",
        "      \n",
        "      # print(f\"Original size : {image.size}\")\n",
        "      sunset_resized = image.convert('RGB').resize((300, 300))\n",
        "      sunset_resized.save(destination)"
      ]
    },
    {
      "cell_type": "code",
      "source": [
        "def normalizer(X,Y):\n",
        "    X = (X - X.min())/(X.max() - X.min())\n",
        "    Y = to_categorical(Y,num_classes=2)\n",
        "    return X,Y"
      ],
      "metadata": {
        "id": "HHzOUsBg7cfm"
      },
      "execution_count": 5,
      "outputs": []
    },
    {
      "cell_type": "code",
      "execution_count": 6,
      "metadata": {
        "id": "a6vcndzoKCw1"
      },
      "outputs": [],
      "source": [
        "def loading_image(link):\n",
        "    img_dataset = []\n",
        "    img_labels = []\n",
        "    imagePaths = list(paths.list_images(link))\n",
        "    for imagePath in imagePaths:\n",
        "        image = cv2.imread(imagePath, cv2.IMREAD_UNCHANGED)\n",
        "        label = int(imagePath.split(os.path.sep)[-2])\n",
        "        image = image.astype(\"float32\")\n",
        "        img_dataset.append(image)\n",
        "        img_labels.append(label)\n",
        "    img_dataset = np.asarray(img_dataset)\n",
        "    img_labels = np.asarray(img_labels)\n",
        "    return img_dataset, img_labels "
      ]
    },
    {
      "cell_type": "code",
      "execution_count": 7,
      "metadata": {
        "id": "ApFfHH9mKbLI"
      },
      "outputs": [],
      "source": [
        "for i in range(1,100):\n",
        "    image_resizer(f\"/content/drive/MyDrive/Gender-image/0/{i}.jpg\",f\"/content/gender-image/0/{i}.jpg\")\n",
        "    image_resizer(f\"/content/drive/MyDrive/Gender-image/1/{i}.jpg\",f\"/content/gender-image/1/{i}.jpg\")"
      ]
    },
    {
      "cell_type": "code",
      "execution_count": 8,
      "metadata": {
        "id": "61Wqm5mnZHsq"
      },
      "outputs": [],
      "source": [
        "X, Y = loading_image(\"/content/gender-image\")"
      ]
    },
    {
      "cell_type": "code",
      "source": [
        "X,Y = normalizer(X,Y)"
      ],
      "metadata": {
        "id": "ASwgotoosaqe"
      },
      "execution_count": 9,
      "outputs": []
    },
    {
      "cell_type": "code",
      "execution_count": 10,
      "metadata": {
        "id": "7gcfl0Drjcpw",
        "colab": {
          "base_uri": "https://localhost:8080/"
        },
        "outputId": "06ab199f-68da-4e70-c92d-eb20429cafb5"
      },
      "outputs": [
        {
          "output_type": "stream",
          "name": "stdout",
          "text": [
            "Model: \"sequential\"\n",
            "_________________________________________________________________\n",
            " Layer (type)                Output Shape              Param #   \n",
            "=================================================================\n",
            " conv2d (Conv2D)             (None, 298, 298, 32)      896       \n",
            "                                                                 \n",
            " max_pooling2d (MaxPooling2D  (None, 149, 149, 32)     0         \n",
            " )                                                               \n",
            "                                                                 \n",
            " conv2d_1 (Conv2D)           (None, 147, 147, 64)      18496     \n",
            "                                                                 \n",
            " max_pooling2d_1 (MaxPooling  (None, 73, 73, 64)       0         \n",
            " 2D)                                                             \n",
            "                                                                 \n",
            " conv2d_2 (Conv2D)           (None, 71, 71, 64)        36928     \n",
            "                                                                 \n",
            " flatten (Flatten)           (None, 322624)            0         \n",
            "                                                                 \n",
            " dense (Dense)               (None, 64)                20648000  \n",
            "                                                                 \n",
            " dense_1 (Dense)             (None, 2)                 130       \n",
            "                                                                 \n",
            "=================================================================\n",
            "Total params: 20,704,450\n",
            "Trainable params: 20,704,450\n",
            "Non-trainable params: 0\n",
            "_________________________________________________________________\n"
          ]
        }
      ],
      "source": [
        "model = Sequential()\n",
        "model.add(Conv2D(32,(3,3),activation= \"relu\",input_shape=(300,300,3)))\n",
        "model.add(MaxPooling2D((2,2)))\n",
        "model.add(Conv2D(64,(3,3),activation= \"relu\"))\n",
        "model.add(MaxPooling2D((2,2)))\n",
        "model.add(Conv2D(64,(3,3),activation= \"relu\"))\n",
        "model.add(Flatten())\n",
        "model.add(Dense(64,activation= \"relu\"))\n",
        "model.add(Dense(2,activation= \"softmax\"))\n",
        "\n",
        "model.summary()"
      ]
    },
    {
      "cell_type": "code",
      "execution_count": 11,
      "metadata": {
        "id": "_OOviYFELAuX",
        "colab": {
          "base_uri": "https://localhost:8080/"
        },
        "outputId": "3f4dc6a6-f6c7-4955-f1d7-0826533010c0"
      },
      "outputs": [
        {
          "output_type": "stream",
          "name": "stdout",
          "text": [
            "Epoch 1/15\n",
            "4/4 [==============================] - 5s 235ms/step - loss: 1.4737 - accuracy: 0.5455\n",
            "Epoch 2/15\n",
            "4/4 [==============================] - 0s 107ms/step - loss: 0.6167 - accuracy: 0.6010\n",
            "Epoch 3/15\n",
            "4/4 [==============================] - 1s 111ms/step - loss: 0.4813 - accuracy: 0.7879\n",
            "Epoch 4/15\n",
            "4/4 [==============================] - 1s 121ms/step - loss: 0.3475 - accuracy: 0.8434\n",
            "Epoch 5/15\n",
            "4/4 [==============================] - 1s 114ms/step - loss: 0.3200 - accuracy: 0.8687\n",
            "Epoch 6/15\n",
            "4/4 [==============================] - 1s 111ms/step - loss: 0.2109 - accuracy: 0.9141\n",
            "Epoch 7/15\n",
            "4/4 [==============================] - 1s 120ms/step - loss: 0.1690 - accuracy: 0.9343\n",
            "Epoch 8/15\n",
            "4/4 [==============================] - 1s 118ms/step - loss: 0.1253 - accuracy: 0.9444\n",
            "Epoch 9/15\n",
            "4/4 [==============================] - 1s 115ms/step - loss: 0.1354 - accuracy: 0.9596\n",
            "Epoch 10/15\n",
            "4/4 [==============================] - 0s 105ms/step - loss: 0.0869 - accuracy: 0.9747\n",
            "Epoch 11/15\n",
            "4/4 [==============================] - 0s 107ms/step - loss: 0.0456 - accuracy: 0.9848\n",
            "Epoch 12/15\n",
            "4/4 [==============================] - 0s 105ms/step - loss: 0.0103 - accuracy: 1.0000\n",
            "Epoch 13/15\n",
            "4/4 [==============================] - 0s 106ms/step - loss: 0.0284 - accuracy: 0.9848\n",
            "Epoch 14/15\n",
            "4/4 [==============================] - 0s 107ms/step - loss: 0.0157 - accuracy: 1.0000\n",
            "Epoch 15/15\n",
            "4/4 [==============================] - 0s 103ms/step - loss: 0.0096 - accuracy: 1.0000\n"
          ]
        }
      ],
      "source": [
        "model.compile(Adam(),loss=\"categorical_crossentropy\",metrics=\"accuracy\")\n",
        "ModFit = model.fit(X,Y,epochs= 15,batch_size= 64)"
      ]
    },
    {
      "cell_type": "code",
      "source": [
        "for i in range(1,100):\n",
        "    image_resizer(f\"/content/drive/MyDrive/0/{i}.jpg\",f\"/content/gender-image/test/0/{i}.jpg\")\n",
        "    image_resizer(f\"/content/drive/MyDrive/1/{i}.jpg\",f\"/content/gender-image/test/1/{i}.jpg\")"
      ],
      "metadata": {
        "id": "x-J5eZp113gm"
      },
      "execution_count": 12,
      "outputs": []
    },
    {
      "cell_type": "code",
      "source": [
        "X_test, Y_test = loading_image(\"/content/gender-image/test\")"
      ],
      "metadata": {
        "id": "aRNJkh0X76Jy"
      },
      "execution_count": 13,
      "outputs": []
    },
    {
      "cell_type": "code",
      "source": [
        "X_test,Y_test = normalizer(X_test,Y_test)"
      ],
      "metadata": {
        "id": "OG5megu89XOW"
      },
      "execution_count": 14,
      "outputs": []
    },
    {
      "cell_type": "code",
      "source": [
        "score = model.evaluate(X_test,Y_test,batch_size=64)\n",
        "print(f\"Accuracy: {score[1]}\")"
      ],
      "metadata": {
        "id": "KeZYuY_M9pBl",
        "colab": {
          "base_uri": "https://localhost:8080/"
        },
        "outputId": "b1b4c577-5041-4a3f-c3e9-a34636cd6b72"
      },
      "execution_count": 15,
      "outputs": [
        {
          "output_type": "stream",
          "name": "stdout",
          "text": [
            "4/4 [==============================] - 1s 55ms/step - loss: 1.0528 - accuracy: 0.7778\n",
            "Accuracy: 0.7777777910232544\n"
          ]
        }
      ]
    }
  ],
  "metadata": {
    "accelerator": "GPU",
    "colab": {
      "provenance": [],
      "mount_file_id": "1zVCOdP5IcKObOG82zCBlGfDmvOgo_S0u",
      "authorship_tag": "ABX9TyPxur/KvMeQxujiDU9+tYpN",
      "include_colab_link": true
    },
    "gpuClass": "standard",
    "kernelspec": {
      "display_name": "Python 3",
      "name": "python3"
    },
    "language_info": {
      "name": "python"
    }
  },
  "nbformat": 4,
  "nbformat_minor": 0
}